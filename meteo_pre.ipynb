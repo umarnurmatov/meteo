{
 "cells": [
  {
   "cell_type": "code",
   "execution_count": 3,
   "metadata": {},
   "outputs": [],
   "source": [
    "import pandas as pd\n",
    "import matplotlib.pyplot as plt"
   ]
  },
  {
   "cell_type": "code",
   "execution_count": 4,
   "metadata": {},
   "outputs": [],
   "source": [
    "height = [\"IMU_ATTI(0):alti:D\", \"IMU_ATTI(0):relativeHeight:C\"]\n",
    "rpy = [\"IMU_ATTI(0):roll:C\", \"IMU_ATTI(0):pitch:C\", \"IMU_ATTI(0):yaw:C\"]\n",
    "wind = [\"AirSpeed:windSpeed\", \"AirSpeed:windDirection\"]\n",
    "compass = [\"CompassFilter(1):X:D\", \"CompassFilter(1):Y:D\", \"CompassFilter(1):Z:D\"]\n",
    "tilt = [\"IMU_ATTI(0):tiltInclination:C\", \"IMU_ATTI(0):tiltDirectionEarthFrame:C\"]\n",
    "\n",
    "ranges = [\n",
    "    [27620, 28841, 0, 16800], \n",
    "    [0, 3375, 17000, 20695],\n",
    "    [0, 2610, 30600, 32141]\n",
    "]"
   ]
  },
  {
   "cell_type": "code",
   "execution_count": 5,
   "metadata": {},
   "outputs": [],
   "source": [
    "for i in range(1, 4):\n",
    "    df = pd.read_csv(f\"{i}.csv\", low_memory=False)\n",
    "    df = df[height + rpy + wind + compass + tilt]\n",
    "    df = df.drop(range(ranges[i-1][0], ranges[i-1][1]), axis=0)\n",
    "    df = df.drop(range(ranges[i-1][2], ranges[i-1][3]), axis=0)\n",
    "    df.to_csv(f\"{i}-clear.csv\", index=False)"
   ]
  }
 ],
 "metadata": {
  "kernelspec": {
   "display_name": "Python 3",
   "language": "python",
   "name": "python3"
  },
  "language_info": {
   "codemirror_mode": {
    "name": "ipython",
    "version": 3
   },
   "file_extension": ".py",
   "mimetype": "text/x-python",
   "name": "python",
   "nbconvert_exporter": "python",
   "pygments_lexer": "ipython3",
   "version": "3.10.10"
  },
  "orig_nbformat": 4
 },
 "nbformat": 4,
 "nbformat_minor": 2
}
