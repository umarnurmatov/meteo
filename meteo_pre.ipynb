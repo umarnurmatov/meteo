{
 "cells": [
  {
   "cell_type": "code",
   "execution_count": 1,
   "metadata": {},
   "outputs": [],
   "source": [
    "import pandas as pd\n",
    "import matplotlib.pyplot as plt"
   ]
  },
  {
   "cell_type": "code",
   "execution_count": 2,
   "metadata": {},
   "outputs": [],
   "source": [
    "height = [\"IMU_ATTI(0):alti:D\", \"IMU_ATTI(0):relativeHeight:C\"]\n",
    "rpy = [\"IMU_ATTI(0):roll:C\", \"IMU_ATTI(0):pitch:C\", \"IMU_ATTI(0):yaw:C\"]\n",
    "wind = [\"AirSpeed:windSpeed\", \"AirSpeed:windDirection\"]"
   ]
  },
  {
   "cell_type": "code",
   "execution_count": 3,
   "metadata": {},
   "outputs": [
    {
     "name": "stderr",
     "output_type": "stream",
     "text": [
      "/tmp/ipykernel_5674/2727007435.py:1: DtypeWarning: Columns (49,50,77,120,121,170,171,172,173,174,175,176,177,178,179,239,244,246,248,249,250,288) have mixed types. Specify dtype option on import or set low_memory=False.\n",
      "  df1 = pd.read_csv(\"1.csv\")#, low_memory=False)\n"
     ]
    }
   ],
   "source": [
    "df1 = pd.read_csv(\"1.csv\")#, low_memory=False)\n",
    "\n",
    "df1 = df1[height + rpy + wind]\n",
    "df1 = df1.drop(range(27620, 28841), axis=0)\n",
    "df1 = df1.drop(range(0, 16800), axis=0)\n",
    "df1.to_csv(\"1-clear.csv\", index=False)"
   ]
  },
  {
   "cell_type": "code",
   "execution_count": 4,
   "metadata": {},
   "outputs": [
    {
     "name": "stderr",
     "output_type": "stream",
     "text": [
      "/tmp/ipykernel_5674/3272469415.py:1: DtypeWarning: Columns (49,50,121,170,171,172,173,174,175,176,177,178,179,244,246,248,249,250,288) have mixed types. Specify dtype option on import or set low_memory=False.\n",
      "  df2 = pd.read_csv(\"2.csv\")#, low_memory=False)\n"
     ]
    }
   ],
   "source": [
    "df2 = pd.read_csv(\"2.csv\")#, low_memory=False)\n",
    "\n",
    "df2 = df2[height + rpy + wind]\n",
    "df2 = df2.drop(range(0, 3375), axis=0)\n",
    "df2 = df2.drop(range(17000, 20695), axis=0)\n",
    "df2.to_csv(\"2-clear.csv\", index=False)"
   ]
  },
  {
   "cell_type": "code",
   "execution_count": 5,
   "metadata": {},
   "outputs": [
    {
     "name": "stderr",
     "output_type": "stream",
     "text": [
      "/tmp/ipykernel_5674/2877806748.py:1: DtypeWarning: Columns (49,50,121,170,171,172,173,174,175,176,177,178,179,239,244,246,248,249,250,288) have mixed types. Specify dtype option on import or set low_memory=False.\n",
      "  df3 = pd.read_csv(\"3.csv\")#, low_memory=False)\n"
     ]
    }
   ],
   "source": [
    "df3 = pd.read_csv(\"3.csv\")#, low_memory=False)\n",
    "\n",
    "df3 = df3[height + rpy + wind]\n",
    "df3 = df3.drop(range(0, 2610), axis=0)\n",
    "df3 = df3.drop(range(30600, 32141), axis=0)\n",
    "df3.to_csv(\"3-clear.csv\", index=False)"
   ]
  }
 ],
 "metadata": {
  "kernelspec": {
   "display_name": "Python 3",
   "language": "python",
   "name": "python3"
  },
  "language_info": {
   "codemirror_mode": {
    "name": "ipython",
    "version": 3
   },
   "file_extension": ".py",
   "mimetype": "text/x-python",
   "name": "python",
   "nbconvert_exporter": "python",
   "pygments_lexer": "ipython3",
   "version": "3.11.2"
  },
  "orig_nbformat": 4
 },
 "nbformat": 4,
 "nbformat_minor": 2
}
